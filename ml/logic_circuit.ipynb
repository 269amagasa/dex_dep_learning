{
 "cells": [
  {
   "cell_type": "markdown",
   "metadata": {},
   "source": [
    "* OR回路\n",
    "\n",
    "|IN1|IN2|OUT|\n",
    "|---|---|---|\n",
    "|0|0|0|\n",
    "|1|0|0|\n",
    "|0|1|0|\n",
    "|1|1|1|"
   ]
  },
  {
   "cell_type": "code",
   "execution_count": null,
   "metadata": {},
   "outputs": [],
   "source": [
    "def OR(x1, x2):\n",
    "    # 重みとバイアスを設定\n",
    "    w1 = 0.5\n",
    "    w2 = 0.5\n",
    "    b = -0.3\n",
    "\n",
    "    # バイアスを含む入力値合計\n",
    "    u = w1 * x1 + w2 * x2 + b\n",
    "    \n",
    "    if  u >= 0:\n",
    "        y = 1\n",
    "    else:\n",
    "        y = 0\n",
    "    return y\n",
    "\n",
    "print(OR(0, 0)) # 0\n",
    "print(OR(1, 0)) # 1\n",
    "print(OR(0, 1)) # 1\n",
    "print(OR(1, 1)) # 1"
   ]
  },
  {
   "cell_type": "markdown",
   "metadata": {},
   "source": [
    "* AND回路\n",
    "\n",
    "|IN1|IN2|OUT|\n",
    "|---|---|---|\n",
    "|0|0|0|\n",
    "|1|0|0|\n",
    "|0|1|0|\n",
    "|1|1|1|"
   ]
  },
  {
   "cell_type": "code",
   "execution_count": null,
   "metadata": {},
   "outputs": [],
   "source": [
    "def AND(x1, x2):\n",
    "    \n",
    "    w1 = 0.3\n",
    "    w2 = 0.3\n",
    "    b = -0.5\n",
    "    \n",
    "    u = w1 * x1 + w2 * x2 + b\n",
    "    \n",
    "    if  u >= 0:\n",
    "        y = 1\n",
    "    else:\n",
    "        y = 0\n",
    "    return y\n",
    "\n",
    "print(AND(0, 0)) # 0\n",
    "print(AND(1, 0)) # 0\n",
    "print(AND(0, 1)) # 0\n",
    "print(AND(1, 1)) # 1"
   ]
  },
  {
   "cell_type": "markdown",
   "metadata": {},
   "source": [
    "* NAND回路\n",
    "\n",
    "|IN1|IN2|OUT|\n",
    "|---|---|---|\n",
    "|0|0|1|\n",
    "|1|0|1|\n",
    "|0|1|1|\n",
    "|1|1|0|"
   ]
  },
  {
   "cell_type": "code",
   "execution_count": null,
   "metadata": {},
   "outputs": [],
   "source": [
    "def NAND(x1, x2):\n",
    "    \n",
    "    w1 = 0\n",
    "    w2 = 0\n",
    "    b = 0\n",
    "\n",
    "    u = w1 * x1 + w2 * x2 + b\n",
    "    \n",
    "    if  u >= 0:\n",
    "        y = 1\n",
    "    else:\n",
    "        y = 0\n",
    "    return y    \n",
    "\n",
    "print(NAND(0, 0)) # 1\n",
    "print(NAND(1, 0)) # 1\n",
    "print(NAND(0, 1)) # 1\n",
    "print(NAND(1, 1)) # 0"
   ]
  },
  {
   "cell_type": "markdown",
   "metadata": {},
   "source": [
    "xOR回路\n",
    "\n",
    "|IN1|IN2|OUT|\n",
    "|---|---|---|\n",
    "|0|0|0|\n",
    "|1|0|1|\n",
    "|0|1|1|\n",
    "|1|1|0|"
   ]
  },
  {
   "cell_type": "code",
   "execution_count": null,
   "metadata": {},
   "outputs": [],
   "source": [
    "def XOR(x1, x2):\n",
    "    \n",
    "    w1 = 0\n",
    "    w2 = 0\n",
    "    b = 0\n",
    "\n",
    "    u = w1 * x1 + w2 * x2 + b\n",
    "    \n",
    "    if  u >= 0:\n",
    "        y = 1\n",
    "    else:\n",
    "        y = 0\n",
    "    return y\n",
    "\n",
    "print(XOR(0, 0)) # 0\n",
    "print(XOR(1, 0)) # 1\n",
    "print(XOR(0, 1)) # 1\n",
    "print(XOR(1, 1)) # 0"
   ]
  }
 ],
 "metadata": {
  "kernelspec": {
   "display_name": "Python 3",
   "language": "python",
   "name": "python3"
  },
  "language_info": {
   "codemirror_mode": {
    "name": "ipython",
    "version": 3
   },
   "file_extension": ".py",
   "mimetype": "text/x-python",
   "name": "python",
   "nbconvert_exporter": "python",
   "pygments_lexer": "ipython3",
   "version": "3.9.7"
  },
  "orig_nbformat": 2
 },
 "nbformat": 4,
 "nbformat_minor": 2
}
