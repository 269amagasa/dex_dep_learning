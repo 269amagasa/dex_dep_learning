{
 "cells": [
  {
   "cell_type": "code",
   "execution_count": 22,
   "metadata": {},
   "outputs": [
    {
     "name": "stdout",
     "output_type": "stream",
     "text": [
      "0\n",
      "0\n",
      "0\n",
      "1\n"
     ]
    }
   ],
   "source": [
    "def AND(X1, X2):\n",
    "    w1, w2, b = 0.3, 0.3, -0.5\n",
    "    if w1 * X1 + w2 * X2 + b >= 0:\n",
    "        y = 1\n",
    "    else:\n",
    "        y = 0\n",
    "    return y\n",
    "\n",
    "print(AND(0, 0)) # 1\n",
    "print(AND(1, 0)) # 1\n",
    "print(AND(0, 1)) # 1\n",
    "print(AND(1, 1)) # 0"
   ]
  },
  {
   "cell_type": "code",
   "execution_count": 21,
   "metadata": {},
   "outputs": [
    {
     "name": "stdout",
     "output_type": "stream",
     "text": [
      "0\n",
      "1\n",
      "1\n",
      "1\n"
     ]
    }
   ],
   "source": [
    "def OR(X1, X2):\n",
    "    w1, w2, b = 0.5, 0.5, -0.3\n",
    "    if w1 * X1 + w2 * X2 + b >= 0:\n",
    "        y = 1\n",
    "    else:\n",
    "        y = 0\n",
    "    return y\n",
    "\n",
    "print(OR(0, 0)) # 1\n",
    "print(OR(1, 0)) # 1\n",
    "print(OR(0, 1)) # 1\n",
    "print(OR(1, 1)) # 0"
   ]
  },
  {
   "cell_type": "code",
   "execution_count": 19,
   "metadata": {},
   "outputs": [
    {
     "name": "stdout",
     "output_type": "stream",
     "text": [
      "1\n",
      "1\n",
      "1\n",
      "0\n"
     ]
    }
   ],
   "source": [
    "def NAND(X1, X2):\n",
    "    # 重みとバイアスを設定\n",
    "    w1, w2, b = -0.5, -0.5, 0.7\n",
    "    if w1 * X1 + w2 * X2 + b >= 0:\n",
    "        y = 1\n",
    "    else:\n",
    "        y = 0\n",
    "    return y\n",
    "\n",
    "print(NAND(0, 0)) # 1\n",
    "print(NAND(1, 0)) # 1\n",
    "print(NAND(0, 1)) # 1\n",
    "print(NAND(1, 1)) # 0"
   ]
  },
  {
   "cell_type": "code",
   "execution_count": 25,
   "metadata": {},
   "outputs": [
    {
     "name": "stdout",
     "output_type": "stream",
     "text": [
      "0\n",
      "1\n",
      "1\n",
      "0\n"
     ]
    }
   ],
   "source": [
    "def XOR(X1, X2):\n",
    "    # 重みとバイアスを設定\n",
    "    return AND(OR(X1, X2), NAND(X1, X2))\n",
    "\n",
    "\n",
    "print(XOR(0, 0)) # 1\n",
    "print(XOR(1, 0)) # 0\n",
    "print(XOR(0, 1)) # 0\n",
    "print(XOR(1, 1)) # 0"
   ]
  }
 ],
 "metadata": {
  "kernelspec": {
   "display_name": "Python 3",
   "language": "python",
   "name": "python3"
  },
  "language_info": {
   "codemirror_mode": {
    "name": "ipython",
    "version": 3
   },
   "file_extension": ".py",
   "mimetype": "text/x-python",
   "name": "python",
   "nbconvert_exporter": "python",
   "pygments_lexer": "ipython3",
   "version": "3.9.7"
  },
  "orig_nbformat": 2
 },
 "nbformat": 4,
 "nbformat_minor": 2
}
